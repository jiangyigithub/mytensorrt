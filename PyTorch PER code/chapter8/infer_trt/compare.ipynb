{
 "cells": [
  {
   "cell_type": "code",
   "execution_count": 16,
   "id": "bc328729",
   "metadata": {},
   "outputs": [],
   "source": [
    "import matplotlib.pyplot as plt"
   ]
  },
  {
   "cell_type": "code",
   "execution_count": 17,
   "id": "bae4ee29",
   "metadata": {},
   "outputs": [],
   "source": [
    "compressed = open(\"compressed.txt\").readlines()"
   ]
  },
  {
   "cell_type": "code",
   "execution_count": 19,
   "id": "4d80fd0b",
   "metadata": {},
   "outputs": [],
   "source": [
    "compressed = [float(iou.replace(\"\\n\", \"\")) for iou in compressed]\n",
    "compressed = [iou for iou in compressed if iou>0]"
   ]
  },
  {
   "cell_type": "code",
   "execution_count": 20,
   "id": "6a0d2d62",
   "metadata": {},
   "outputs": [],
   "source": [
    "compressed_int8 = open(\"compressed_int8.txt\").readlines()\n",
    "compressed_int8 = [float(iou.replace(\"\\n\", \"\")) for iou in compressed_int8]\n",
    "compressed_int8 = [iou for iou in compressed_int8 if iou>0]"
   ]
  },
  {
   "cell_type": "code",
   "execution_count": 21,
   "id": "67fbe1a5",
   "metadata": {},
   "outputs": [
    {
     "data": {
      "text/plain": [
       "[0.975838,\n",
       " 0.885286,\n",
       " 0.881508,\n",
       " 0.282586,\n",
       " 0.628237,\n",
       " 0.425431,\n",
       " 0.85178,\n",
       " 0.173483,\n",
       " 0.981942,\n",
       " 0.860312,\n",
       " 0.131832]"
      ]
     },
     "execution_count": 21,
     "metadata": {},
     "output_type": "execute_result"
    }
   ],
   "source": [
    "compressed"
   ]
  },
  {
   "cell_type": "code",
   "execution_count": 22,
   "id": "4fbd54e3",
   "metadata": {},
   "outputs": [
    {
     "data": {
      "text/plain": [
       "[0.966801,\n",
       " 0.854611,\n",
       " 0.874914,\n",
       " 0.254395,\n",
       " 0.637649,\n",
       " 0.41625,\n",
       " 0.853175,\n",
       " 0.213277,\n",
       " 0.980576,\n",
       " 0.859083,\n",
       " 0.125301]"
      ]
     },
     "execution_count": 22,
     "metadata": {},
     "output_type": "execute_result"
    }
   ],
   "source": [
    "compressed_int8"
   ]
  },
  {
   "cell_type": "code",
   "execution_count": 25,
   "id": "079f75a1",
   "metadata": {},
   "outputs": [
    {
     "data": {
      "text/plain": [
       "[<matplotlib.lines.Line2D at 0x7f88acb2c7f0>]"
      ]
     },
     "execution_count": 25,
     "metadata": {},
     "output_type": "execute_result"
    },
    {
     "data": {
      "image/png": "[encoded data removed]",
      "text/plain": [
       "<Figure size 432x288 with 1 Axes>"
      ]
     },
     "metadata": {
      "needs_background": "light"
     },
     "output_type": "display_data"
    }
   ],
   "source": [
    "plt.plot(compressed, \"x\")\n",
    "plt.plot(compressed_int8, \"*\")"
   ]
  },
  {
   "cell_type": "code",
   "execution_count": null,
   "id": "1d5531b2",
   "metadata": {},
   "outputs": [],
   "source": []
  }
 ],
 "metadata": {
  "kernelspec": {
   "display_name": "Python 3",
   "language": "python",
   "name": "python3"
  },
  "language_info": {
   "codemirror_mode": {
    "name": "ipython",
    "version": 3
   },
   "file_extension": ".py",
   "mimetype": "text/x-python",
   "name": "python",
   "nbconvert_exporter": "python",
   "pygments_lexer": "ipython3",
   "version": "3.8.8"
  }
 },
 "nbformat": 4,
 "nbformat_minor": 5
}
