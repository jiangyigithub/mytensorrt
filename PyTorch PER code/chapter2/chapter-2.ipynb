{
 "cells": [
  {
   "cell_type": "code",
   "execution_count": null,
   "metadata": {},
   "outputs": [],
   "source": [
    "import numpy as np\n",
    "import torch"
   ]
  },
  {
   "cell_type": "code",
   "execution_count": null,
   "metadata": {},
   "outputs": [],
   "source": [
    "A = np.zeros((3, 3))\n",
    "b = 1.0\n",
    "print(A+b)"
   ]
  },
  {
   "cell_type": "code",
   "execution_count": null,
   "metadata": {},
   "outputs": [],
   "source": [
    "A = np.zeros((2, 2, 3))  # A是一个形状为2x2x3的三维零矩阵\n",
    "b = np.array([1.0, 2.0, 3.0])  # b是一个长度为3的一维向量，由Python数组转换而来\n",
    "print(A+b)"
   ]
  },
  {
   "cell_type": "code",
   "execution_count": null,
   "metadata": {},
   "outputs": [],
   "source": [
    "A = np.ones((2, 1))  # A是一个形状为2x1的二维全一矩阵\n",
    "b = np.ones((2))    # b是一个长度为2的一维全一向量\n",
    "print(A+b)"
   ]
  },
  {
   "cell_type": "code",
   "execution_count": null,
   "metadata": {},
   "outputs": [],
   "source": [
    "A = np.array([[1.0, 2.0],\n",
    "              [3.0, 4.0]])\n",
    "print(A*A)"
   ]
  },
  {
   "cell_type": "code",
   "execution_count": null,
   "metadata": {},
   "outputs": [],
   "source": [
    "A = np.ones((2, 2))  # A是一个2x2的全一矩阵\n",
    "B = np.ones((2, 3))  # B是一个2x3的全一矩阵\n",
    "print(A@B)"
   ]
  },
  {
   "cell_type": "code",
   "execution_count": null,
   "metadata": {},
   "outputs": [],
   "source": [
    "A = np.ones((2, 1, 2))  # A是一个3x1x2的全一矩阵\n",
    "B = np.ones((2, 3))  # B是一个2x3的全一矩阵\n",
    "print(A@B)"
   ]
  },
  {
   "cell_type": "code",
   "execution_count": null,
   "metadata": {},
   "outputs": [],
   "source": [
    "A = np.array([[1.0, 2.0],\n",
    "              [3.0, 4.0]])\n",
    "# mask是A的掩膜\n",
    "mask = A > 2\n",
    "print(mask)"
   ]
  },
  {
   "cell_type": "code",
   "execution_count": null,
   "metadata": {},
   "outputs": [],
   "source": [
    "# 如果要进行更为复杂的逻辑运算，则应使用与运算符“&”：\n",
    "A = np.array([[1.0, 2.0],\n",
    "             [3.0, 4.0]])\n",
    "# mask是A的掩膜\n",
    "mask = (A > 2) & (A < 4)\n",
    "print(mask)"
   ]
  },
  {
   "cell_type": "code",
   "execution_count": null,
   "metadata": {},
   "outputs": [],
   "source": [
    "# 将A矩阵中掩膜为True的元素赋值为0.0\n",
    "A[mask] = 0.0\n",
    "print(A)"
   ]
  },
  {
   "cell_type": "code",
   "execution_count": null,
   "metadata": {},
   "outputs": [],
   "source": [
    "A[A > 2] = 0.0\n",
    "print(A)"
   ]
  },
  {
   "cell_type": "code",
   "execution_count": null,
   "metadata": {},
   "outputs": [],
   "source": [
    "A = np.ones((3, 4, 5))\n",
    "B = np.mean(A, axis=1)\n",
    "print(B.shape)  # 打印结果为（3，5）"
   ]
  },
  {
   "cell_type": "code",
   "execution_count": null,
   "metadata": {},
   "outputs": [],
   "source": [
    "# 新建一个数组\n",
    "A = np.ones((3, 4, 5))\n",
    "\n",
    "# 将数组保存到A.npy文件\n",
    "np.save(\"A.npy\", A)\n",
    "\n",
    "# 读取A.npy文件中的数组\n",
    "# A 和 A_loaded 的值是一样的\n",
    "A_loaded = np.load(\"A.npy\")"
   ]
  },
  {
   "cell_type": "code",
   "execution_count": null,
   "metadata": {},
   "outputs": [],
   "source": [
    "class K:  # 定义一个Python类\n",
    "    def __init__(self):\n",
    "        self.a = 1.0\n",
    "        self.b = [2, 4, 5]\n",
    "        self.c = {\"item\": 1.0}\n",
    "\n",
    "\n",
    "# 实例化一个Python对象B\n",
    "B = K()\n",
    "# 使用Pickle序列化包将对象B保存到B.npy文件里\n",
    "np.save(\"B.npy\", B, allow_pickle=True)\n",
    "# 使用Pickle序列化包加载B.npy文件里的对象\n",
    "B_loaded = np.load(\"B.npy\", allow_pickle=True)\n",
    "# 使用item()函数将Python对象恢复出来并打印其中的成员变量c\n",
    "print(B_loaded.item().c)"
   ]
  },
  {
   "cell_type": "code",
   "execution_count": null,
   "metadata": {},
   "outputs": [],
   "source": [
    "import cv2\n",
    "import matplotlib.pyplot as plt\n",
    "# 建立视频文件读取对象\n",
    "cap = cv2.VideoCapture('test.mp4')\n",
    "\n",
    "# 读取视频直至最后一帧\n",
    "while (cap.isOpened()):\n",
    "    # 读取下一帧图像，ret是返回值，frame是读取的图像，也是一个NumPy数组\n",
    "    ret, frame = cap.read()\n",
    "    if ret == True:\n",
    "        # 将这一帧图像转换为灰度图或者进行任何其他处理\n",
    "        image = cv2.cvtColor(frame, cv2.COLOR_BGR2RGB)\n",
    "    else:\n",
    "        # 读取失败，跳出循环，可能是视频损坏\n",
    "        break\n",
    "# 读取结束，关闭视频文件\n",
    "cap.release()\n",
    "plt.imshow(image)"
   ]
  },
  {
   "cell_type": "code",
   "execution_count": null,
   "metadata": {},
   "outputs": [],
   "source": [
    "import numpy as np\n",
    "import cv2\n",
    "import matplotlib.pyplot as plt\n",
    "# 新建一个全白的BGR图像，高480像素，宽640像素\n",
    "image = 255+np.zeros((480, 640, 3), dtype=\"uint8\")\n",
    "\n",
    "# 在图像上画一根蓝色的竖线\n",
    "image = cv2.line(image,\n",
    "                 pt1=(100, 0),  # 起始点为x=100, y=0\n",
    "                 pt2=(100, 479),  # 终止点为x=100, y=479\n",
    "                 color=(255, 0, 0),  # 线条的颜色，BGR格式，此为蓝色\n",
    "                 thickness=2)  # 线条的粗细，此为两个像素\n",
    "# 在图像上画一根红色的横线\n",
    "image = cv2.line(image,\n",
    "                 pt1=(0, 50),\n",
    "                 pt2=(639, 50),\n",
    "                 color=(255, 0, 0),\n",
    "                 thickness=2)\n",
    "# 在图像上(100, 50)所在的位置上写“OpenCV”\n",
    "image = cv2.putText(image, 'OpenCV',\n",
    "                    org=(100, 50),  # 文字的原点，位于文字的左下角\n",
    "                    fontFace=cv2.FONT_HERSHEY_SIMPLEX,  # 文字的字体\n",
    "                    fontScale=1,  # 文字的大小\n",
    "                    color=(0, 255, 0),  # 文字的颜色，此为绿色\n",
    "                    thickness=2)  # 文字的粗细，此为两个像素\n",
    "# 在图像(320, 240)所在的位置上画一个方框\n",
    "image = cv2.rectangle(image,\n",
    "                      pt1=(320, 240),  # 方框的左上角坐标x=320，y=240\n",
    "                      pt2=(420, 290),  # 方框右下角的坐标\n",
    "                      color=(0, 255, 0),  # 方框的颜色，此为绿色\n",
    "                      thickness=2)  # 方框的粗细，此为两个像素\n",
    "\n",
    "# 将图像保存到draw.png文件中\n",
    "cv2.imwrite(\"draw.png\", image)\n",
    "plt.imshow(image)"
   ]
  },
  {
   "attachments": {},
   "cell_type": "markdown",
   "metadata": {},
   "source": [
    "## PyTorch\n"
   ]
  },
  {
   "cell_type": "code",
   "execution_count": null,
   "metadata": {},
   "outputs": [],
   "source": [
    "import torch\n",
    "# 构建CPU的device变量\n",
    "cpu_device = torch.device(\"cpu\")\n",
    "# 构建第一个GPU的device变量\n",
    "gpu_device = torch.device(\"cuda:0\")\n",
    "# 构建第二个GPU的device变量\n",
    "gpu_device = torch.device(\"cuda:1\")\n",
    "# 检测GPU设备是否可用，可用的话构建GPU的device变量，否则构建CPU的device变量\n",
    "device = torch.device(\"cuda:0\" if torch.cuda.is_available() else \"cpu\")\n",
    "print(device)"
   ]
  },
  {
   "cell_type": "code",
   "execution_count": null,
   "metadata": {},
   "outputs": [],
   "source": [
    "gpu_device = torch.device(\"cuda:0\")\n",
    "cpu_device = torch.device(\"cpu\")\n",
    "\n",
    "# 生成一个640行480列，位于CPU设备上的随机张量\n",
    "data = torch.rand([480, 640], device=cpu_device)\n",
    "\n",
    "# 生成一个640行480列，位于CPU设备上的随机张量\n",
    "data = torch.rand([480, 640], device=\"cpu\")\n",
    "\n",
    "# 生成一个640行480列，位于指定GPU设备上的随机张量\n",
    "data = torch.rand([480, 640], device=gpu_device)\n",
    "\n",
    "# 生成一个640行480列，位于第一个GPU设备上的随机张量\n",
    "data = torch.rand([480, 640], device=\"cuda:0\")\n",
    "\n",
    "# 下面的示例代码实现的是图2-5中的通路A，将一个随机NumPy数组转换为PyTorch张量：\n",
    "numpy_data = np.random.rand(480, 640)\n",
    "# 复制NumPy数组内的数据块并新建一个PyTorch张量\n",
    "tensor = torch.tensor(numpy_data)\n",
    "\n",
    "# 基于NumPy数组的现有数据块新建一个PyTorch张量\n",
    "tensor = torch.as_tensor(numpy_data)"
   ]
  },
  {
   "cell_type": "code",
   "execution_count": null,
   "metadata": {},
   "outputs": [],
   "source": [
    "# 建立一个NumPy数组，仅有一个元素1.0\n",
    "numpy_data = np.array([1.0])\n",
    "# 用复制的方式转换为PyTorch张量\n",
    "tensor = torch.tensor(numpy_data)\n",
    "# 将PyTorch张量里的元素改为2.0\n",
    "tensor[0] = 2.0\n",
    "print(numpy_data)\n",
    "\n",
    "# 用共享数据块的方式转换为PyTorch张量\n",
    "tensor = torch.as_tensor(numpy_data)\n",
    "\n",
    "# 将PyTorch张量里的元素改为2.0\n",
    "tensor[0] = 2.0\n",
    "print(numpy_data)"
   ]
  },
  {
   "cell_type": "code",
   "execution_count": null,
   "metadata": {},
   "outputs": [],
   "source": [
    "# 新建一个随机张量，默认位于CPU内存空间\n",
    "data_cpu = torch.rand([480, 640])\n",
    "\n",
    "# 将张量复制到第一个GPU的显存空间\n",
    "data_gpu = data_cpu.to(\"cuda:0\")\n",
    "# 将张量复制到GPU的显存空间，默认为第一个GPU\n",
    "data_gpu = data_cpu.cuda()\n",
    "\n",
    "# 将张量复制到指定的device变量\n",
    "data_gpu = data_cpu.to(gpu_device)\n",
    "\n",
    "# 将张量复制到CPU的显存空间\n",
    "data_gpu = data_cpu.to(\"cpu\")\n",
    "# 将张量复制到CPU的显存空间\n",
    "data_cpu = data_gpu.cpu()\n",
    "# 将张量复制到指定的device变量\n",
    "data_gpu = data_cpu.to(cpu_device)"
   ]
  },
  {
   "cell_type": "code",
   "execution_count": null,
   "metadata": {},
   "outputs": [],
   "source": [
    "# 新建一个随机张量，默认位于CPU内存空间\n",
    "data_cpu = torch.rand([480, 640])\n",
    "# 将张量转换为NumPy数组，张量和转换后的NumPy数组共享内存\n",
    "data_numpy = data_cpu.numpy()\n",
    "# 使用NumPy数组的copy()函数将数据复制出来\n",
    "data_numpy = data_numpy.copy()"
   ]
  },
  {
   "cell_type": "code",
   "execution_count": null,
   "metadata": {},
   "outputs": [],
   "source": [
    "import time\n",
    "import torch\n",
    "# 定义当前执行运算的设备：第一个GPU\n",
    "device = torch.device(\"cuda:0\")\n",
    "# 生成一个480x640的随机张量A\n",
    "A = torch.rand([480, 640], device=device)\n",
    "# 记录运算开始时间的时间戳，以纳秒为单位\n",
    "start_time = time.monotonic_ns()\n",
    "for i in range(1000):\n",
    "    # 生成一个640x3的随机张量B\n",
    "    B = torch.rand([640, 3], device=device)\n",
    "    # 执行矩阵乘法\n",
    "    C = A@B\n",
    "\n",
    "# 记录运算结束时间的时间戳，以纳秒为单位\n",
    "end_time = time.monotonic_ns()\n",
    "\n",
    "# 计算运算耗时，以纳秒为单位\n",
    "print(end_time-start_time)"
   ]
  },
  {
   "cell_type": "code",
   "execution_count": null,
   "metadata": {},
   "outputs": [],
   "source": [
    "import torch\n",
    "# 定义输入值x\n",
    "x = torch.tensor(2.0)\n",
    "\n",
    "# 定义真实值y*，以y_作为变量名\n",
    "y_ = torch.tensor(3.7)\n",
    "\n",
    "# 定义参数w，因为这是需要获得梯度的参数，须将requires_grad选项设置为True\n",
    "w = torch.tensor(3.5, requires_grad=True)\n",
    "\n",
    "# 定义参数b，定义方法和w类似\n",
    "b = torch.tensor(1.2, requires_grad=True)\n",
    "# 构建线性函数的计算图，乘号*和加号+都是PyTorch支持的算子\n",
    "y = x*w+b\n",
    "\n",
    "# 构建均方误差的计算图，两个乘号是PyTorch支持的幂次算子，此为二次幂\n",
    "L = (y-y_)**2\n",
    "\n",
    "# 打印计算出来损失值\n",
    "print(L)\n",
    "\n",
    "# 从L开始向整个计算图回传梯度\n",
    "L.backward()\n",
    "\n",
    "# 打印参数w的梯度\n",
    "print(w.grad)\n",
    "\n",
    "# 打印参数b的梯度\n",
    "print(b.grad)"
   ]
  },
  {
   "cell_type": "code",
   "execution_count": null,
   "metadata": {},
   "outputs": [],
   "source": [
    "import torch\n",
    "from tqdm import tqdm\n",
    "\n",
    "# 随机生成100个x\n",
    "x = torch.rand((100, 1))\n",
    "\n",
    "# 生成相当于原数据10%的噪声信号\n",
    "noise = 0.1*torch.rand((100, 1))\n",
    "\n",
    "# 计算相应的y*并混入噪声信号\n",
    "y_ = 3*x+4+noise"
   ]
  },
  {
   "cell_type": "code",
   "execution_count": null,
   "metadata": {},
   "outputs": [],
   "source": [
    "# 加载PyToch的优化器包\n",
    "import torch.optim as optim\n",
    "\n",
    "# 随机初始化待训练参数w\n",
    "w = torch.rand((1), requires_grad=True)\n",
    "\n",
    "# 随机初始化待训练参数b\n",
    "b = torch.rand((1), requires_grad=True)\n",
    "\n",
    "# 定义Adam优化器，待训练参数为w,b加入params列表，学习率lr定为0.01\n",
    "optimizer = optim.Adam(params=[w, b], lr=0.01)\n",
    "\n",
    "# 优化更新迭代1000步\n",
    "for i in tqdm(range(1000)):\n",
    "    # 将计算图中积累的梯度清零\n",
    "    optimizer.zero_grad()\n",
    "\n",
    "    # 根据线性函数构建前向计算图\n",
    "    y = w*x + b\n",
    "    # 构建均方损失函数计算图，使用所有数据点损失的均值\n",
    "    loss = torch.mean((y-y_)**2)\n",
    "    # 将损失函数产生的梯度反向传播\n",
    "    loss.backward()\n",
    "\n",
    "    # 基于反向传播到各的参数梯度使用优化器更新参数\n",
    "    optimizer.step()\n",
    "\n",
    "print(w)\n",
    "print(b)"
   ]
  },
  {
   "cell_type": "code",
   "execution_count": null,
   "metadata": {},
   "outputs": [],
   "source": []
  }
 ],
 "metadata": {
  "kernelspec": {
   "display_name": "cseg",
   "language": "python",
   "name": "python3"
  },
  "language_info": {
   "codemirror_mode": {
    "name": "ipython",
    "version": 3
   },
   "file_extension": ".py",
   "mimetype": "text/x-python",
   "name": "python",
   "nbconvert_exporter": "python",
   "pygments_lexer": "ipython3",
   "version": "3.8.8"
  },
  "orig_nbformat": 4
 },
 "nbformat": 4,
 "nbformat_minor": 2
}
